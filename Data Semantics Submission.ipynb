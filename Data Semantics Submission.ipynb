{
 "cells": [
  {
   "cell_type": "markdown",
   "metadata": {},
   "source": [
    "## Final solution was a direct filter. Things I tried out:\n",
    "\n",
    "    1. Tried converting the text column in the dataset to TF-IDF using CountVectorizer and applied Logistic Regression Classifier but it's performance wasn't better than direct filtering.\n",
    "    2. A direct filter of getting the medium counts of review was logical as a negative reviewer will have something to justify his negative review and will not be too long because the user is already frustrated with the product."
   ]
  },
  {
   "cell_type": "code",
   "execution_count": 1,
   "metadata": {},
   "outputs": [],
   "source": [
    "#importing the libraries used for analysis\n",
    "\n",
    "import pandas as pd\n",
    "import numpy as np\n",
    "import matplotlib.pyplot as plt\n",
    "import sklearn\n",
    "from sklearn.metrics import *\n",
    "from sklearn.feature_selection import *\n",
    "from sklearn.model_selection import *\n",
    "from sklearn.ensemble import *\n",
    "from sklearn.neighbors import *\n",
    "from sklearn.linear_model import *\n",
    "import seaborn as sns\n",
    "import warnings\n",
    "from sklearn.feature_extraction.text import *\n",
    "\n",
    "import os\n",
    "\n",
    "warnings.filterwarnings('ignore')\n",
    "\n",
    "pd.set_option('display.max_columns',None)\n",
    "pd.set_option('display.max_rows',None)\n",
    "\n",
    "os.chdir(r'C:\\AnalyticsVidyaCompetitions\\Skillenza Data Semantics')"
   ]
  },
  {
   "cell_type": "code",
   "execution_count": 2,
   "metadata": {},
   "outputs": [],
   "source": [
    "#loading train data\n",
    "train_raw=pd.read_csv('training_1.csv')\n",
    "\n",
    "#loading test data\n",
    "test_raw=pd.read_csv('test.csv')"
   ]
  },
  {
   "cell_type": "code",
   "execution_count": 3,
   "metadata": {},
   "outputs": [
    {
     "name": "stdout",
     "output_type": "stream",
     "text": [
      "<class 'pandas.core.frame.DataFrame'>\n",
      "RangeIndex: 3464 entries, 0 to 3463\n",
      "Data columns (total 3 columns):\n",
      "id          3464 non-null int64\n",
      "category    3464 non-null int64\n",
      "text        3464 non-null object\n",
      "dtypes: int64(2), object(1)\n",
      "memory usage: 81.3+ KB\n"
     ]
    }
   ],
   "source": [
    "# Analysing the dataset for missing values\n",
    "\n",
    "train_raw.info()"
   ]
  },
  {
   "cell_type": "code",
   "execution_count": 4,
   "metadata": {},
   "outputs": [
    {
     "name": "stdout",
     "output_type": "stream",
     "text": [
      "<class 'pandas.core.frame.DataFrame'>\n",
      "RangeIndex: 1360 entries, 0 to 1359\n",
      "Data columns (total 2 columns):\n",
      "id      1360 non-null int64\n",
      "text    1360 non-null object\n",
      "dtypes: int64(1), object(1)\n",
      "memory usage: 21.4+ KB\n"
     ]
    }
   ],
   "source": [
    "# Analysing the test dataset for missing values\n",
    "\n",
    "test_raw.info()"
   ]
  },
  {
   "cell_type": "code",
   "execution_count": 5,
   "metadata": {},
   "outputs": [
    {
     "data": {
      "text/html": [
       "<div>\n",
       "<style scoped>\n",
       "    .dataframe tbody tr th:only-of-type {\n",
       "        vertical-align: middle;\n",
       "    }\n",
       "\n",
       "    .dataframe tbody tr th {\n",
       "        vertical-align: top;\n",
       "    }\n",
       "\n",
       "    .dataframe thead th {\n",
       "        text-align: right;\n",
       "    }\n",
       "</style>\n",
       "<table border=\"1\" class=\"dataframe\">\n",
       "  <thead>\n",
       "    <tr style=\"text-align: right;\">\n",
       "      <th>category</th>\n",
       "      <th>0</th>\n",
       "      <th>1</th>\n",
       "    </tr>\n",
       "    <tr>\n",
       "      <th>category_length</th>\n",
       "      <th></th>\n",
       "      <th></th>\n",
       "    </tr>\n",
       "  </thead>\n",
       "  <tbody>\n",
       "    <tr>\n",
       "      <th>Low_count</th>\n",
       "      <td>2482</td>\n",
       "      <td>11</td>\n",
       "    </tr>\n",
       "    <tr>\n",
       "      <th>Mid_count</th>\n",
       "      <td>751</td>\n",
       "      <td>105</td>\n",
       "    </tr>\n",
       "    <tr>\n",
       "      <th>High_count</th>\n",
       "      <td>114</td>\n",
       "      <td>0</td>\n",
       "    </tr>\n",
       "  </tbody>\n",
       "</table>\n",
       "</div>"
      ],
      "text/plain": [
       "category            0    1\n",
       "category_length           \n",
       "Low_count        2482   11\n",
       "Mid_count         751  105\n",
       "High_count        114    0"
      ]
     },
     "execution_count": 5,
     "metadata": {},
     "output_type": "execute_result"
    }
   ],
   "source": [
    "#creating derived variables\n",
    "\n",
    "def clean_df(df):\n",
    "\n",
    "    df['length']=[len(i) for i in df.text]\n",
    "\n",
    "#bin range varied for each subsmission \n",
    "    \n",
    "    df['category_length']=pd.cut(df.length,[0,100,200,10000],labels=['Low_count','Mid_count','High_count']) \n",
    "\n",
    "clean_df(train_raw)\n",
    "\n",
    "clean_df(test_raw)\n",
    "\n",
    "#Analyzing cross tab an important relationship appears between Mid count and the rest of the data which is \n",
    "# why instead of modelling the data a direct filter can be applied to solve this problem provding high score\n",
    "\n",
    "pd.crosstab(train_raw.category_length,train_raw.category)"
   ]
  },
  {
   "cell_type": "code",
   "execution_count": 223,
   "metadata": {},
   "outputs": [
    {
     "data": {
      "text/html": [
       "<div>\n",
       "<style scoped>\n",
       "    .dataframe tbody tr th:only-of-type {\n",
       "        vertical-align: middle;\n",
       "    }\n",
       "\n",
       "    .dataframe tbody tr th {\n",
       "        vertical-align: top;\n",
       "    }\n",
       "\n",
       "    .dataframe thead th {\n",
       "        text-align: right;\n",
       "    }\n",
       "</style>\n",
       "<table border=\"1\" class=\"dataframe\">\n",
       "  <thead>\n",
       "    <tr style=\"text-align: right;\">\n",
       "      <th></th>\n",
       "      <th>id</th>\n",
       "      <th>text</th>\n",
       "      <th>length</th>\n",
       "      <th>category_length</th>\n",
       "    </tr>\n",
       "  </thead>\n",
       "  <tbody>\n",
       "    <tr>\n",
       "      <th>0</th>\n",
       "      <td>3729</td>\n",
       "      <td>2705 4888 5050 5815 2472 5157 652 2117 2110 32...</td>\n",
       "      <td>140</td>\n",
       "      <td>Mid_count</td>\n",
       "    </tr>\n",
       "    <tr>\n",
       "      <th>1</th>\n",
       "      <td>3732</td>\n",
       "      <td>389 4978 315 5178 513 5249 5853 3267 315 3891 ...</td>\n",
       "      <td>128</td>\n",
       "      <td>Mid_count</td>\n",
       "    </tr>\n",
       "    <tr>\n",
       "      <th>2</th>\n",
       "      <td>3761</td>\n",
       "      <td>4478 4231 4858 2638 4231 867 371 686 4888 4179...</td>\n",
       "      <td>145</td>\n",
       "      <td>Mid_count</td>\n",
       "    </tr>\n",
       "    <tr>\n",
       "      <th>3</th>\n",
       "      <td>5</td>\n",
       "      <td>3015 1911 112 3905 825 337 315 1693 4677 825 5...</td>\n",
       "      <td>63</td>\n",
       "      <td>Low_count</td>\n",
       "    </tr>\n",
       "    <tr>\n",
       "      <th>4</th>\n",
       "      <td>7</td>\n",
       "      <td>5136 3918 5153 2023 3091 4159 315 3711 1409 27...</td>\n",
       "      <td>86</td>\n",
       "      <td>Low_count</td>\n",
       "    </tr>\n",
       "  </tbody>\n",
       "</table>\n",
       "</div>"
      ],
      "text/plain": [
       "     id                                               text  length  \\\n",
       "0  3729  2705 4888 5050 5815 2472 5157 652 2117 2110 32...     140   \n",
       "1  3732  389 4978 315 5178 513 5249 5853 3267 315 3891 ...     128   \n",
       "2  3761  4478 4231 4858 2638 4231 867 371 686 4888 4179...     145   \n",
       "3     5  3015 1911 112 3905 825 337 315 1693 4677 825 5...      63   \n",
       "4     7  5136 3918 5153 2023 3091 4159 315 3711 1409 27...      86   \n",
       "\n",
       "  category_length  \n",
       "0       Mid_count  \n",
       "1       Mid_count  \n",
       "2       Mid_count  \n",
       "3       Low_count  \n",
       "4       Low_count  "
      ]
     },
     "execution_count": 223,
     "metadata": {},
     "output_type": "execute_result"
    }
   ],
   "source": [
    "#Validating the operation of derived var on test set\n",
    "test_raw.head()"
   ]
  },
  {
   "cell_type": "code",
   "execution_count": 224,
   "metadata": {},
   "outputs": [
    {
     "name": "stdout",
     "output_type": "stream",
     "text": [
      "     id  category\n",
      "0  3729         1\n",
      "1  3732         1\n",
      "2  3761         1\n",
      "3     5         0\n",
      "4     7         0\n"
     ]
    }
   ],
   "source": [
    "# Applying the filter of mid_count i.e count of reviews in between 100 and 200 letters then it has \n",
    "# high likelihood of being a negative review\n",
    "\n",
    "test_raw['category']=np.where(test_raw['category_length']=='Mid_count',1,0)\n",
    "\n",
    "test_raw.drop(['text','length','category_length'],axis=1,inplace=True)\n",
    "\n",
    "print(test_raw.head())\n",
    "\n",
    "test_raw.to_csv('sample_submission.csv',index=False)"
   ]
  }
 ],
 "metadata": {
  "kernelspec": {
   "display_name": "Python 3",
   "language": "python",
   "name": "python3"
  },
  "language_info": {
   "codemirror_mode": {
    "name": "ipython",
    "version": 3
   },
   "file_extension": ".py",
   "mimetype": "text/x-python",
   "name": "python",
   "nbconvert_exporter": "python",
   "pygments_lexer": "ipython3",
   "version": "3.7.4"
  }
 },
 "nbformat": 4,
 "nbformat_minor": 2
}
